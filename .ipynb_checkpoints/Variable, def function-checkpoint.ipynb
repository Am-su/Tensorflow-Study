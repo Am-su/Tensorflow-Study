{
 "cells": [
  {
   "cell_type": "code",
   "execution_count": 97,
   "id": "a3f08f41",
   "metadata": {},
   "outputs": [],
   "source": [
    "import tensorflow as tf\n",
    "import os\n",
    "os.environ['TF_CPP_MIN_LOG_LEVEL'] = '3'"
   ]
  },
  {
   "cell_type": "code",
   "execution_count": 98,
   "id": "b8c18cbf",
   "metadata": {},
   "outputs": [],
   "source": [
    "a = tf.Variable(tf.random.normal(shape=([1]),name='a'))\n",
    "b = tf.Variable(tf.random.normal(shape=([1]),name='b'))\n",
    "\n",
    "c = tf.Variable(tf.random.normal(shape=(1,2),name='c'))\n",
    "d = tf.Variable(tf.random.normal(shape=(1,2),name='d'))\n",
    "\n",
    "#a = tf.constant(tf.random.normal(shape=([1])),name='a')\n",
    "#b = tf.constant(tf.random.normal(shape=([1])),name='b')\n"
   ]
  },
  {
   "cell_type": "markdown",
   "id": "6e12475f",
   "metadata": {},
   "source": [
    "provides a shortcut for tf.add(a,b)"
   ]
  },
  {
   "cell_type": "code",
   "execution_count": 99,
   "id": "53d93e59",
   "metadata": {},
   "outputs": [
    {
     "name": "stdout",
     "output_type": "stream",
     "text": [
      "[-0.127196655]\n",
      "[0.810669422] \n",
      "\n",
      "[[1.11995065 -0.565830767]]\n",
      "[[-0.751336157 0.488788843]] \n",
      "\n",
      "<tf.Variable 'Variable:0' shape=(1,) dtype=float32, numpy=array([-0.12719665], dtype=float32)>\n",
      "<tf.Variable 'Variable:0' shape=(1,) dtype=float32, numpy=array([0.8106694], dtype=float32)>\n",
      "<tf.Variable 'Variable:0' shape=(1, 2) dtype=float32, numpy=array([[ 1.1199507 , -0.56583077]], dtype=float32)>\n",
      "<tf.Variable 'Variable:0' shape=(1, 2) dtype=float32, numpy=array([[-0.75133616,  0.48878884]], dtype=float32)>\n"
     ]
    }
   ],
   "source": [
    "tf.print(a)\n",
    "tf.print(b,'\\n')\n",
    "tf.print(c)\n",
    "tf.print(d,'\\n')\n",
    "\n",
    "print(a)\n",
    "print(b)\n",
    "print(c)\n",
    "print(d)\n"
   ]
  },
  {
   "cell_type": "code",
   "execution_count": 100,
   "id": "3f89cc9e",
   "metadata": {},
   "outputs": [],
   "source": [
    "@tf.function\n",
    "def adder_node(a,b):\n",
    "    return a+b\n"
   ]
  },
  {
   "cell_type": "markdown",
   "id": "53e56f16",
   "metadata": {},
   "source": [
    "definition adder_node"
   ]
  },
  {
   "cell_type": "code",
   "execution_count": 101,
   "id": "0f9ee568",
   "metadata": {},
   "outputs": [
    {
     "name": "stdout",
     "output_type": "stream",
     "text": [
      "[0.683472753]\n",
      "[[0.368614495 -0.077041924]]\n"
     ]
    }
   ],
   "source": [
    "tf.print(adder_node(a,b))\n",
    "\n",
    "tf.print(adder_node(c,d))"
   ]
  },
  {
   "cell_type": "code",
   "execution_count": null,
   "id": "1571ff25",
   "metadata": {},
   "outputs": [],
   "source": []
  }
 ],
 "metadata": {
  "kernelspec": {
   "display_name": "Python 3 (ipykernel)",
   "language": "python",
   "name": "python3"
  },
  "language_info": {
   "codemirror_mode": {
    "name": "ipython",
    "version": 3
   },
   "file_extension": ".py",
   "mimetype": "text/x-python",
   "name": "python",
   "nbconvert_exporter": "python",
   "pygments_lexer": "ipython3",
   "version": "3.9.7"
  }
 },
 "nbformat": 4,
 "nbformat_minor": 5
}
