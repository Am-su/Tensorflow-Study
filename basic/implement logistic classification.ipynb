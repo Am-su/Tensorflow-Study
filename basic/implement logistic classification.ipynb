{
 "cells": [
  {
   "cell_type": "code",
   "execution_count": 2,
   "id": "61fe115b",
   "metadata": {},
   "outputs": [],
   "source": [
    "import tensorflow.compat.v1 as tf\n",
    "tf.disable_v2_behavior()\n",
    "import os\n",
    "os.environ['TF_CPP_MIN_LOG_LEVEL'] = '3'"
   ]
  },
  {
   "cell_type": "code",
   "execution_count": 3,
   "id": "c7f01c18",
   "metadata": {},
   "outputs": [],
   "source": [
    "x_data = [[1,2],[2,3],[3,1],[4,3],[5,3],[6,2]]\n",
    "y_data = [[0],[0],[0],[1],[1],[1]]"
   ]
  },
  {
   "cell_type": "markdown",
   "id": "aa0d5fdb",
   "metadata": {},
   "source": [
    "placeholders for a tensor that will be always fed."
   ]
  },
  {
   "cell_type": "code",
   "execution_count": 5,
   "id": "906a0438",
   "metadata": {},
   "outputs": [],
   "source": [
    "X = tf.placeholder(tf.float32, shape = [None,2])\n",
    "Y = tf.placeholder(tf.float32, shape = [None,1])\n",
    "W = tf.Variable(tf.random_normal([2,1]),name='weight')\n",
    "b = tf.Variable(tf.random_normal([1]),name='bias')"
   ]
  },
  {
   "cell_type": "markdown",
   "id": "63532e5c",
   "metadata": {},
   "source": [
    "Hypothesis using sigmoid : tf.div(1., 1. + tf.exp(tf.matmul(X,W) + b))"
   ]
  },
  {
   "cell_type": "code",
   "execution_count": 6,
   "id": "93d6e46b",
   "metadata": {},
   "outputs": [],
   "source": [
    "hypothesis = tf.sigmoid(tf.matmul(X,W)+b)"
   ]
  },
  {
   "cell_type": "markdown",
   "id": "cb984244",
   "metadata": {},
   "source": [
    "cost/Loss function"
   ]
  },
  {
   "cell_type": "code",
   "execution_count": 8,
   "id": "9d2fc4c8",
   "metadata": {},
   "outputs": [],
   "source": [
    "cost = -tf.reduce_mean(Y*tf.log(hypothesis)+(1-Y)*tf.log(1-hypothesis))\n",
    "\n",
    "train = tf.train.GradientDescentOptimizer(learning_rate=0.01).minimize(cost)"
   ]
  },
  {
   "cell_type": "markdown",
   "id": "b2219e91",
   "metadata": {},
   "source": [
    "Accuracy computation\n",
    "\n",
    "True if hypothesis > 0.5 else False"
   ]
  },
  {
   "cell_type": "code",
   "execution_count": 9,
   "id": "be1eeaf5",
   "metadata": {},
   "outputs": [],
   "source": [
    "predicted = tf.cast(hypothesis > 0.5, dtype=tf.float32)\n",
    "accuracy = tf.reduce_mean(tf.cast(tf.equal(predicted, Y), dtype=tf.float32))"
   ]
  },
  {
   "cell_type": "markdown",
   "id": "80928a83",
   "metadata": {},
   "source": [
    "Launch graph"
   ]
  },
  {
   "cell_type": "code",
   "execution_count": 12,
   "id": "1ff4a40a",
   "metadata": {},
   "outputs": [
    {
     "name": "stdout",
     "output_type": "stream",
     "text": [
      "0 0.96271133\n",
      "200 0.6446427\n",
      "400 0.5190216\n",
      "600 0.46290842\n",
      "800 0.43147233\n",
      "1000 0.40999177\n",
      "1200 0.39314783\n",
      "1400 0.37877786\n",
      "1600 0.36591184\n",
      "1800 0.35407797\n",
      "2000 0.3430294\n",
      "2200 0.33262697\n",
      "2400 0.32278553\n",
      "2600 0.31344804\n",
      "2800 0.30457303\n",
      "3000 0.2961273\n",
      "3200 0.28808302\n",
      "3400 0.2804156\n",
      "3600 0.27310264\n",
      "3800 0.2661236\n",
      "4000 0.25945932\n",
      "4200 0.25309184\n",
      "4400 0.24700432\n",
      "4600 0.24118103\n",
      "4800 0.2356072\n",
      "5000 0.23026882\n",
      "5200 0.22515292\n",
      "5400 0.22024716\n",
      "5600 0.21554019\n",
      "5800 0.21102107\n",
      "6000 0.20667982\n",
      "6200 0.20250694\n",
      "6400 0.19849348\n",
      "6600 0.19463114\n",
      "6800 0.1909122\n",
      "7000 0.18732929\n",
      "7200 0.1838754\n",
      "7400 0.1805442\n",
      "7600 0.17732956\n",
      "7800 0.17422569\n",
      "8000 0.17122735\n",
      "8200 0.16832949\n",
      "8400 0.16552739\n",
      "8600 0.16281638\n",
      "8800 0.16019242\n",
      "9000 0.15765154\n",
      "9200 0.15518983\n",
      "9400 0.15280391\n",
      "9600 0.1504904\n",
      "9800 0.14824621\n",
      "10000 0.14606822\n",
      "\n",
      "Hypothesis :  [[0.0293119 ]\n",
      " [0.15686545]\n",
      " [0.29795688]\n",
      " [0.78455657]\n",
      " [0.9415579 ]\n",
      " [0.9808362 ]] \n",
      "Correct (Y):  [[0.]\n",
      " [0.]\n",
      " [0.]\n",
      " [1.]\n",
      " [1.]\n",
      " [1.]] \n",
      "Accuracy:  1.0\n"
     ]
    }
   ],
   "source": [
    "with tf.Session() as sess:\n",
    "    sess.run(tf.global_variables_initializer())\n",
    "    \n",
    "    for step in range(10001):\n",
    "        cost_val, _ = sess.run([cost, train], feed_dict={X:x_data, Y:y_data})\n",
    "        if step % 200 == 0:\n",
    "            print(step, cost_val)\n",
    "    h, c, a = sess.run([hypothesis, predicted, accuracy],\n",
    "                  feed_dict={X:x_data, Y:y_data})\n",
    "    print(\"\\nHypothesis : \",h, \"\\nCorrect (Y): \",c,\"\\nAccuracy: \",a)\n"
   ]
  }
 ],
 "metadata": {
  "kernelspec": {
   "display_name": "Python 3 (ipykernel)",
   "language": "python",
   "name": "python3"
  },
  "language_info": {
   "codemirror_mode": {
    "name": "ipython",
    "version": 3
   },
   "file_extension": ".py",
   "mimetype": "text/x-python",
   "name": "python",
   "nbconvert_exporter": "python",
   "pygments_lexer": "ipython3",
   "version": "3.9.7"
  }
 },
 "nbformat": 4,
 "nbformat_minor": 5
}
